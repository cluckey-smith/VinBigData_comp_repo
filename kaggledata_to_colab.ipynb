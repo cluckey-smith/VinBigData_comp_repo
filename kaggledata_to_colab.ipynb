{
  "nbformat": 4,
  "nbformat_minor": 0,
  "metadata": {
    "colab": {
      "name": "kaggledata_to_colab",
      "provenance": [],
      "mount_file_id": "1Zz8a4DrScTD1d_pT6Csi-rhS2GYoAvyD",
      "authorship_tag": "ABX9TyPEObp6DaG010+G/B3LR8G4",
      "include_colab_link": true
    },
    "kernelspec": {
      "name": "python3",
      "display_name": "Python 3"
    }
  },
  "cells": [
    {
      "cell_type": "markdown",
      "metadata": {
        "id": "view-in-github",
        "colab_type": "text"
      },
      "source": [
        "<a href=\"https://colab.research.google.com/github/sameen73/VinBigData_comp_repo/blob/kaggle_data_pull/kaggledata_to_colab.ipynb\" target=\"_parent\"><img src=\"https://colab.research.google.com/assets/colab-badge.svg\" alt=\"Open In Colab\"/></a>"
      ]
    },
    {
      "cell_type": "markdown",
      "metadata": {
        "id": "8CDDloCUMcOc"
      },
      "source": [
        "# Kaggle to Colab \r\n",
        "This notebook moves the zipped output of the Kaggle kernel pre-processing pipeline I created (DICOM_2_PNG). This dataset contains two folders, test and train. The test set has 3,000 .png images, and the training set has 15,000 .png images.  \r\n",
        "  \r\n",
        "My Google Drive was already mounted to this notebook before execution. Additionally, I decided to just manually import the train targets into the Google Drive data_dump folder since it was not part of the DICOM_2_PNG Kaggle kernel output. "
      ]
    },
    {
      "cell_type": "code",
      "metadata": {
        "id": "eSJIeMma5ybd"
      },
      "source": [
        "# Importing libraries\r\n",
        "import os \r\n",
        "import zipfile"
      ],
      "execution_count": 6,
      "outputs": []
    },
    {
      "cell_type": "code",
      "metadata": {
        "id": "lvXGD0DbXvhv",
        "colab": {
          "base_uri": "https://localhost:8080/",
          "height": 35
        },
        "outputId": "1973fb58-ed90-49bd-eea2-3b134cfbe783"
      },
      "source": [
        "# Change directory to where I want the files downloaded\r\n",
        "os.chdir('/content/drive/MyDrive/VinBigData_comp_gd_dir/data_dump')\r\n",
        "os.getcwd()"
      ],
      "execution_count": 7,
      "outputs": [
        {
          "output_type": "execute_result",
          "data": {
            "application/vnd.google.colaboratory.intrinsic+json": {
              "type": "string"
            },
            "text/plain": [
              "'/content/drive/MyDrive/VinBigData_comp_gd_dir/data_dump'"
            ]
          },
          "metadata": {
            "tags": []
          },
          "execution_count": 7
        }
      ]
    },
    {
      "cell_type": "code",
      "metadata": {
        "id": "6Qwn9tMoVCWm"
      },
      "source": [
        "# Setting environment variables for Kaggle API. Values shown here are placeholders\r\n",
        "os.environ['KAGGLE_USERNAME'] = \"KAGGLE USERNAME HERE\"\r\n",
        "os.environ['KAGGLE_KEY'] = \"KAGGLE KEY HERE\""
      ],
      "execution_count": 2,
      "outputs": []
    },
    {
      "cell_type": "code",
      "metadata": {
        "colab": {
          "base_uri": "https://localhost:8080/"
        },
        "id": "qr-bLtn_XLjl",
        "outputId": "ac0697f6-9836-4ad0-e2f1-9efb3e78f8c0"
      },
      "source": [
        "# Making sure Colab environment had kaggle package installed\r\n",
        "!pip install kaggle\r\n",
        "\r\n",
        "# Force update if needed\r\n",
        "# !pip install --upgrade --force-reinstall --no-deps kaggle"
      ],
      "execution_count": 3,
      "outputs": [
        {
          "output_type": "stream",
          "text": [
            "Requirement already satisfied: kaggle in /usr/local/lib/python3.7/dist-packages (1.5.10)\n",
            "Requirement already satisfied: tqdm in /usr/local/lib/python3.7/dist-packages (from kaggle) (4.41.1)\n",
            "Requirement already satisfied: python-dateutil in /usr/local/lib/python3.7/dist-packages (from kaggle) (2.8.1)\n",
            "Requirement already satisfied: python-slugify in /usr/local/lib/python3.7/dist-packages (from kaggle) (4.0.1)\n",
            "Requirement already satisfied: urllib3 in /usr/local/lib/python3.7/dist-packages (from kaggle) (1.24.3)\n",
            "Requirement already satisfied: requests in /usr/local/lib/python3.7/dist-packages (from kaggle) (2.23.0)\n",
            "Requirement already satisfied: certifi in /usr/local/lib/python3.7/dist-packages (from kaggle) (2020.12.5)\n",
            "Requirement already satisfied: six>=1.10 in /usr/local/lib/python3.7/dist-packages (from kaggle) (1.15.0)\n",
            "Requirement already satisfied: text-unidecode>=1.3 in /usr/local/lib/python3.7/dist-packages (from python-slugify->kaggle) (1.3)\n",
            "Requirement already satisfied: idna<3,>=2.5 in /usr/local/lib/python3.7/dist-packages (from requests->kaggle) (2.10)\n",
            "Requirement already satisfied: chardet<4,>=3.0.2 in /usr/local/lib/python3.7/dist-packages (from requests->kaggle) (3.0.4)\n"
          ],
          "name": "stdout"
        }
      ]
    },
    {
      "cell_type": "code",
      "metadata": {
        "colab": {
          "base_uri": "https://localhost:8080/"
        },
        "id": "aAtiyN_qGMeJ",
        "outputId": "94dcdab9-c751-4cfc-9984-590e416c5ba8"
      },
      "source": [
        "# Making sure my dataset appears on the list in the API\r\n",
        "!kaggle datasets list -s vinbigdata"
      ],
      "execution_count": 4,
      "outputs": [
        {
          "output_type": "stream",
          "text": [
            "Warning: Looks like you're using an outdated API Version, please consider updating (server 1.5.10 / client 1.5.4)\n",
            "ref                                                                 title                                               size  lastUpdated          downloadCount  \n",
            "------------------------------------------------------------------  -------------------------------------------------  -----  -------------------  -------------  \n",
            "sameensalam/vinbigdata-xray-images                                  vinbigdata_xray_images                               2GB  2021-03-04 20:50:54              0  \n",
            "awsaf49/vinbigdata-original-image-dataset                           VinBigData Original Image Dataset                   24GB  2020-12-31 22:55:47           2326  \n",
            "awsaf49/vinbigdata-1024-image-dataset                               VinBigData 1024 Image Dataset                        8GB  2020-12-31 13:53:07           1861  \n",
            "xhlulu/vinbigdata-chest-xray-resized-png-256x256                    VinBigData Chest X-ray Resized PNG (256x256)       550MB  2021-01-04 01:24:42            297  \n",
            "awsaf49/vinbigdata-512-image-dataset                                VinBigData 512 image Dataset                         2GB  2020-12-31 15:24:06           1465  \n",
            "xhlulu/vinbigdata-chest-xray-resized-png-1024x1024                  VinBigData Chest X-ray Resized PNG (1024x1024)       7GB  2021-01-04 01:24:24            321  \n",
            "raddar/vinbigdata-competition-jpg-data-3x-downsampled               VinBigData competition JPG data 3x downsampled       3GB  2020-12-31 12:28:30            457  \n",
            "corochann/vinbigdata-chest-xray-original-png                        vinbigdata-chest-xray-original-png                  47GB  2021-02-17 05:26:22            177  \n",
            "sreevishnudamodaran/vinbigdata-coco-dataset-with-wbf-3x-downscaled  VinBigData - Coco Dataset with WBF 3x Downscaled   897MB  2021-01-30 06:37:44            154  \n",
            "awsaf49/vinbigdata-yolo-labels-dataset                              VinBigData YOLO Labels Dataset                       5MB  2020-12-31 22:13:16            733  \n",
            "bibhash123/xraynumpy                                                VinBigData Chest X-ray (Numpy)                       8GB  2021-01-03 14:51:39             29  \n",
            "awsaf49/vinbigdata-2class-prediction                                VinBigData 2-class Prediction                       86KB  2021-01-10 13:06:31            200  \n",
            "xhlulu/vinbigdata                                                   VinBigData Chest X-ray Resized PNG (512x512)         2GB  2021-01-01 06:41:28            351  \n",
            "bryanb/vinbigdata-chestxray-metadata                                VinBigData Chest X-Ray DICOM Metadata              658KB  2021-01-26 19:30:44             30  \n",
            "awsaf49/vinbigdata-256-image-dataset                                VinBigData 256 image Dataset                       671MB  2020-12-31 15:23:51            156  \n",
            "raddar/vinbigdata-competition-jpg-data-2x-downsampled               VinBigData competition JPG data 2x downsampled       6GB  2020-12-31 16:48:05            142  \n",
            "sunghyunjun/vinbigdata-1024-jpg-dataset                             VinBigData 1024 JPG Dataset                          4GB  2021-02-15 05:24:42             86  \n",
            "corochann/vinbigdata-testmeta                                       vinbigdata_testmeta                                 66KB  2021-01-11 13:18:51            115  \n",
            "minmin102/vinbigdata-512-processed-dataset                          VinBigData 512 Processed Dataset                     2GB  2021-01-08 10:20:39             10  \n",
            "xhlulu/vinbigdata-chest-xray-png-512px-original-ratio               VinBigData Chest X-ray PNG (512px original ratio)    2GB  2021-01-02 17:10:45            210  \n"
          ],
          "name": "stdout"
        }
      ]
    },
    {
      "cell_type": "code",
      "metadata": {
        "colab": {
          "base_uri": "https://localhost:8080/"
        },
        "id": "XU6bdkoqYUDl",
        "outputId": "52e59cc6-8af8-47c0-bcc0-a97d17eb7676"
      },
      "source": [
        "# Running command to Kaggle API\r\n",
        "!kaggle datasets download -d sameensalam/vinbigdata-xray-images -p /content/drive/MyDrive/VinBigData_comp_gd_dir/data_dump/"
      ],
      "execution_count": 5,
      "outputs": [
        {
          "output_type": "stream",
          "text": [
            "Downloading vinbigdata-xray-images.zip to /content/drive/MyDrive/VinBigData_comp_gd_dir/data_dump\n",
            " 99% 1.87G/1.88G [00:17<00:00, 133MB/s]\n",
            "100% 1.88G/1.88G [00:17<00:00, 117MB/s]\n"
          ],
          "name": "stdout"
        }
      ]
    },
    {
      "cell_type": "code",
      "metadata": {
        "id": "BBT9q1-oEgoG"
      },
      "source": [
        "# Unzipping the zip file downloaded from Kaggle\r\n",
        "with zipfile.ZipFile('/content/drive/MyDrive/VinBigData_comp_gd_dir/data_dump/vinbigdata-xray-images.zip', 'r') as zip_ref:\r\n",
        "    zip_ref.extractall('/content/drive/MyDrive/VinBigData_comp_gd_dir/data_dump')"
      ],
      "execution_count": 8,
      "outputs": []
    },
    {
      "cell_type": "code",
      "metadata": {
        "colab": {
          "base_uri": "https://localhost:8080/"
        },
        "id": "rlV_eRT1H4PF",
        "outputId": "9927253a-34a3-40b3-e878-887f92f8c16c"
      },
      "source": [
        "# Double checking that there are 15,000 images in the train and 3,000 images in the test\r\n",
        "os.chdir('/content/drive/MyDrive/VinBigData_comp_gd_dir/data_dump/train/')\r\n",
        "!ls | wc -l \r\n",
        "\r\n",
        "os.chdir('/content/drive/MyDrive/VinBigData_comp_gd_dir/data_dump/test/')\r\n",
        "!ls | wc -l "
      ],
      "execution_count": 12,
      "outputs": [
        {
          "output_type": "stream",
          "text": [
            "15000\n",
            "3000\n"
          ],
          "name": "stdout"
        }
      ]
    },
    {
      "cell_type": "code",
      "metadata": {
        "id": "gSNyMN2nN4RQ"
      },
      "source": [
        "# Remove the .zip file from the directory to save space on Gdrive\r\n",
        "!rm /content/drive/MyDrive/VinBigData_comp_gd_dir/data_dump/vinbigdata-xray-images.zip"
      ],
      "execution_count": 13,
      "outputs": []
    }
  ]
}