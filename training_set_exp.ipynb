{
  "nbformat": 4,
  "nbformat_minor": 0,
  "metadata": {
    "colab": {
      "name": "training_set_exp",
      "provenance": [],
      "mount_file_id": "1-leCYOd4epqLCZjUUpPJq9rd8Y_KVaVb",
      "authorship_tag": "ABX9TyNG6JROXY/yx0EyvijqOojO",
      "include_colab_link": true
    },
    "kernelspec": {
      "name": "python3",
      "display_name": "Python 3"
    }
  },
  "cells": [
    {
      "cell_type": "markdown",
      "metadata": {
        "id": "view-in-github",
        "colab_type": "text"
      },
      "source": [
        "<a href=\"https://colab.research.google.com/github/sameen73/VinBigData_comp_repo/blob/main/training_set_exp.ipynb\" target=\"_parent\"><img src=\"https://colab.research.google.com/assets/colab-badge.svg\" alt=\"Open In Colab\"/></a>"
      ]
    },
    {
      "cell_type": "markdown",
      "metadata": {
        "id": "HTPsYvVaJnx2"
      },
      "source": [
        "# Training Data Exploration\r\n",
        "\r\n",
        "Prior to modeling, it is important to understand the contents and tendencies within the training dataset. This notebook lays out some descriptive statistics of the training dataset. \r\n",
        "\r\n"
      ]
    },
    {
      "cell_type": "code",
      "metadata": {
        "id": "vPrprfgCI9aI"
      },
      "source": [
        "# Import the libraries\r\n",
        "import pandas as pd"
      ],
      "execution_count": 1,
      "outputs": []
    },
    {
      "cell_type": "code",
      "metadata": {
        "id": "9vMbmGwyJnKG"
      },
      "source": [
        "train_targets = pd.read_csv(\"/content/drive/MyDrive/VinBigData_comp_gd_dir/data_dump/train.csv\")"
      ],
      "execution_count": 2,
      "outputs": []
    },
    {
      "cell_type": "code",
      "metadata": {
        "colab": {
          "base_uri": "https://localhost:8080/",
          "height": 357
        },
        "id": "aUFpRtT7LQvl",
        "outputId": "fe0dc701-1c59-46ad-957b-b6dd9213871f"
      },
      "source": [
        "train_targets.head(n=10)"
      ],
      "execution_count": 3,
      "outputs": [
        {
          "output_type": "execute_result",
          "data": {
            "text/html": [
              "<div>\n",
              "<style scoped>\n",
              "    .dataframe tbody tr th:only-of-type {\n",
              "        vertical-align: middle;\n",
              "    }\n",
              "\n",
              "    .dataframe tbody tr th {\n",
              "        vertical-align: top;\n",
              "    }\n",
              "\n",
              "    .dataframe thead th {\n",
              "        text-align: right;\n",
              "    }\n",
              "</style>\n",
              "<table border=\"1\" class=\"dataframe\">\n",
              "  <thead>\n",
              "    <tr style=\"text-align: right;\">\n",
              "      <th></th>\n",
              "      <th>image_id</th>\n",
              "      <th>class_name</th>\n",
              "      <th>class_id</th>\n",
              "      <th>rad_id</th>\n",
              "      <th>x_min</th>\n",
              "      <th>y_min</th>\n",
              "      <th>x_max</th>\n",
              "      <th>y_max</th>\n",
              "    </tr>\n",
              "  </thead>\n",
              "  <tbody>\n",
              "    <tr>\n",
              "      <th>0</th>\n",
              "      <td>50a418190bc3fb1ef1633bf9678929b3</td>\n",
              "      <td>No finding</td>\n",
              "      <td>14</td>\n",
              "      <td>R11</td>\n",
              "      <td>NaN</td>\n",
              "      <td>NaN</td>\n",
              "      <td>NaN</td>\n",
              "      <td>NaN</td>\n",
              "    </tr>\n",
              "    <tr>\n",
              "      <th>1</th>\n",
              "      <td>21a10246a5ec7af151081d0cd6d65dc9</td>\n",
              "      <td>No finding</td>\n",
              "      <td>14</td>\n",
              "      <td>R7</td>\n",
              "      <td>NaN</td>\n",
              "      <td>NaN</td>\n",
              "      <td>NaN</td>\n",
              "      <td>NaN</td>\n",
              "    </tr>\n",
              "    <tr>\n",
              "      <th>2</th>\n",
              "      <td>9a5094b2563a1ef3ff50dc5c7ff71345</td>\n",
              "      <td>Cardiomegaly</td>\n",
              "      <td>3</td>\n",
              "      <td>R10</td>\n",
              "      <td>691.0</td>\n",
              "      <td>1375.0</td>\n",
              "      <td>1653.0</td>\n",
              "      <td>1831.0</td>\n",
              "    </tr>\n",
              "    <tr>\n",
              "      <th>3</th>\n",
              "      <td>051132a778e61a86eb147c7c6f564dfe</td>\n",
              "      <td>Aortic enlargement</td>\n",
              "      <td>0</td>\n",
              "      <td>R10</td>\n",
              "      <td>1264.0</td>\n",
              "      <td>743.0</td>\n",
              "      <td>1611.0</td>\n",
              "      <td>1019.0</td>\n",
              "    </tr>\n",
              "    <tr>\n",
              "      <th>4</th>\n",
              "      <td>063319de25ce7edb9b1c6b8881290140</td>\n",
              "      <td>No finding</td>\n",
              "      <td>14</td>\n",
              "      <td>R10</td>\n",
              "      <td>NaN</td>\n",
              "      <td>NaN</td>\n",
              "      <td>NaN</td>\n",
              "      <td>NaN</td>\n",
              "    </tr>\n",
              "    <tr>\n",
              "      <th>5</th>\n",
              "      <td>1c32170b4af4ce1a3030eb8167753b06</td>\n",
              "      <td>Pleural thickening</td>\n",
              "      <td>11</td>\n",
              "      <td>R9</td>\n",
              "      <td>627.0</td>\n",
              "      <td>357.0</td>\n",
              "      <td>947.0</td>\n",
              "      <td>433.0</td>\n",
              "    </tr>\n",
              "    <tr>\n",
              "      <th>6</th>\n",
              "      <td>0c7a38f293d5f5e4846aa4ca6db4daf1</td>\n",
              "      <td>ILD</td>\n",
              "      <td>5</td>\n",
              "      <td>R17</td>\n",
              "      <td>1347.0</td>\n",
              "      <td>245.0</td>\n",
              "      <td>2188.0</td>\n",
              "      <td>2169.0</td>\n",
              "    </tr>\n",
              "    <tr>\n",
              "      <th>7</th>\n",
              "      <td>47ed17dcb2cbeec15182ed335a8b5a9e</td>\n",
              "      <td>Nodule/Mass</td>\n",
              "      <td>8</td>\n",
              "      <td>R9</td>\n",
              "      <td>557.0</td>\n",
              "      <td>2352.0</td>\n",
              "      <td>675.0</td>\n",
              "      <td>2484.0</td>\n",
              "    </tr>\n",
              "    <tr>\n",
              "      <th>8</th>\n",
              "      <td>d3637a1935a905b3c326af31389cb846</td>\n",
              "      <td>Aortic enlargement</td>\n",
              "      <td>0</td>\n",
              "      <td>R10</td>\n",
              "      <td>1329.0</td>\n",
              "      <td>743.0</td>\n",
              "      <td>1521.0</td>\n",
              "      <td>958.0</td>\n",
              "    </tr>\n",
              "    <tr>\n",
              "      <th>9</th>\n",
              "      <td>afb6230703512afc370f236e8fe98806</td>\n",
              "      <td>Pulmonary fibrosis</td>\n",
              "      <td>13</td>\n",
              "      <td>R9</td>\n",
              "      <td>1857.0</td>\n",
              "      <td>1607.0</td>\n",
              "      <td>2126.0</td>\n",
              "      <td>2036.0</td>\n",
              "    </tr>\n",
              "  </tbody>\n",
              "</table>\n",
              "</div>"
            ],
            "text/plain": [
              "                           image_id          class_name  ...   x_max   y_max\n",
              "0  50a418190bc3fb1ef1633bf9678929b3          No finding  ...     NaN     NaN\n",
              "1  21a10246a5ec7af151081d0cd6d65dc9          No finding  ...     NaN     NaN\n",
              "2  9a5094b2563a1ef3ff50dc5c7ff71345        Cardiomegaly  ...  1653.0  1831.0\n",
              "3  051132a778e61a86eb147c7c6f564dfe  Aortic enlargement  ...  1611.0  1019.0\n",
              "4  063319de25ce7edb9b1c6b8881290140          No finding  ...     NaN     NaN\n",
              "5  1c32170b4af4ce1a3030eb8167753b06  Pleural thickening  ...   947.0   433.0\n",
              "6  0c7a38f293d5f5e4846aa4ca6db4daf1                 ILD  ...  2188.0  2169.0\n",
              "7  47ed17dcb2cbeec15182ed335a8b5a9e         Nodule/Mass  ...   675.0  2484.0\n",
              "8  d3637a1935a905b3c326af31389cb846  Aortic enlargement  ...  1521.0   958.0\n",
              "9  afb6230703512afc370f236e8fe98806  Pulmonary fibrosis  ...  2126.0  2036.0\n",
              "\n",
              "[10 rows x 8 columns]"
            ]
          },
          "metadata": {
            "tags": []
          },
          "execution_count": 3
        }
      ]
    },
    {
      "cell_type": "markdown",
      "metadata": {
        "id": "VdHL-UhhOLgV"
      },
      "source": [
        "There are more entries in the dataset than there are unique images. This implies that there are instances where multiple conditions are associated with a single lung xray image. "
      ]
    },
    {
      "cell_type": "code",
      "metadata": {
        "colab": {
          "base_uri": "https://localhost:8080/"
        },
        "id": "oW49VBVXMlmq",
        "outputId": "e3563b97-b6be-497c-b090-bfada3e87ebd"
      },
      "source": [
        "# Checking number of entries in the training labels \r\n",
        "print(train_targets.shape)\r\n",
        "\r\n",
        "# Check number of unique image ids \r\n",
        "print(len(train_targets.image_id.unique()))"
      ],
      "execution_count": 7,
      "outputs": [
        {
          "output_type": "stream",
          "text": [
            "(67914, 8)\n",
            "15000\n"
          ],
          "name": "stdout"
        }
      ]
    },
    {
      "cell_type": "code",
      "metadata": {
        "colab": {
          "base_uri": "https://localhost:8080/"
        },
        "id": "bjEm5vH2Mcp7",
        "outputId": "34d61964-f41c-47ff-fdf6-c326175087e4"
      },
      "source": [
        "train_targets.class_name.value_counts()"
      ],
      "execution_count": 4,
      "outputs": [
        {
          "output_type": "execute_result",
          "data": {
            "text/plain": [
              "No finding            31818\n",
              "Aortic enlargement     7162\n",
              "Cardiomegaly           5427\n",
              "Pleural thickening     4842\n",
              "Pulmonary fibrosis     4655\n",
              "Nodule/Mass            2580\n",
              "Lung Opacity           2483\n",
              "Pleural effusion       2476\n",
              "Other lesion           2203\n",
              "Infiltration           1247\n",
              "ILD                    1000\n",
              "Calcification           960\n",
              "Consolidation           556\n",
              "Atelectasis             279\n",
              "Pneumothorax            226\n",
              "Name: class_name, dtype: int64"
            ]
          },
          "metadata": {
            "tags": []
          },
          "execution_count": 4
        }
      ]
    },
    {
      "cell_type": "code",
      "metadata": {
        "colab": {
          "base_uri": "https://localhost:8080/"
        },
        "id": "abyKGFFaPpTn",
        "outputId": "4b49e45d-4051-41d1-8846-473af8f549b1"
      },
      "source": [
        "no_finding_obs = train_targets[train_targets['class_id'] == 14]\r\n",
        "no_finding_obs.head(n=10)\r\n",
        "\r\n",
        "no_finding_obs.image_id.value_counts()"
      ],
      "execution_count": 11,
      "outputs": [
        {
          "output_type": "execute_result",
          "data": {
            "text/plain": [
              "dda1e5983467209d661d63f2f23a86fb    3\n",
              "40c5bb0fb2daacf73f49b8cdfc278a27    3\n",
              "909ab0321cdc507243c58b1f95ef55bf    3\n",
              "9af65ea325823abe3267759d885d28a2    3\n",
              "e65bbf5a1c77241e062b010ba006b3fd    3\n",
              "                                   ..\n",
              "252353e9dd191831175accddf57e9625    3\n",
              "742086bb39427a3e02c7c238ed9ade91    3\n",
              "f9ba5de7801dea90494e679809bcf55a    3\n",
              "35620921ecc703db757ec699f456090e    3\n",
              "9d6c0ed3ec9fdef27402935cfe49f91e    3\n",
              "Name: image_id, Length: 10606, dtype: int64"
            ]
          },
          "metadata": {
            "tags": []
          },
          "execution_count": 11
        }
      ]
    }
  ]
}