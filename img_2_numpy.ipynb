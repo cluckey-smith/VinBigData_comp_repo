{
  "nbformat": 4,
  "nbformat_minor": 0,
  "metadata": {
    "colab": {
      "name": "img_2_numpy.ipynb",
      "provenance": [],
      "collapsed_sections": [],
      "mount_file_id": "1LeUR4Bnvs17JulGnkjrz_90l_xqQbAkr",
      "authorship_tag": "ABX9TyMk7Zda3waBodWLRRBzf1sr",
      "include_colab_link": true
    },
    "kernelspec": {
      "name": "python3",
      "display_name": "Python 3"
    },
    "language_info": {
      "name": "python"
    }
  },
  "cells": [
    {
      "cell_type": "markdown",
      "metadata": {
        "id": "view-in-github",
        "colab_type": "text"
      },
      "source": [
        "<a href=\"https://colab.research.google.com/github/sameen73/VinBigData_comp_repo/blob/main/img_2_numpy.ipynb\" target=\"_parent\"><img src=\"https://colab.research.google.com/assets/colab-badge.svg\" alt=\"Open In Colab\"/></a>"
      ]
    },
    {
      "cell_type": "markdown",
      "metadata": {
        "id": "e2l4T9JFp2vz"
      },
      "source": [
        "# Image to Numpy Conversion "
      ]
    },
    {
      "cell_type": "markdown",
      "metadata": {
        "id": "k39kSbCyrhFB"
      },
      "source": [
        "This code is meant to convert and store all images in the data_dump folder. The first step is to ensure that all images (if they haven't already) been converted into grayscale. Next, each image must be converted into a numpy array. Finally, each numpy array must be stored in a way such that the file identifier and the numpy array can be rejoined to the training dataset. "
      ]
    },
    {
      "cell_type": "code",
      "metadata": {
        "id": "2a9noqpFoyt7"
      },
      "source": [
        "import numpy as np\n",
        "import pandas as pd\n",
        "from PIL import Image\n",
        "import os"
      ],
      "execution_count": 19,
      "outputs": []
    },
    {
      "cell_type": "code",
      "metadata": {
        "colab": {
          "base_uri": "https://localhost:8080/"
        },
        "id": "gm7C8brUHHp9",
        "outputId": "ad0b6c6b-78cc-4198-b49e-b5ae5e8a932f"
      },
      "source": [
        "# Use this in case you're in the wrong directory\n",
        "%cd .."
      ],
      "execution_count": 32,
      "outputs": [
        {
          "output_type": "stream",
          "text": [
            "/content/drive/MyDrive\n"
          ],
          "name": "stdout"
        }
      ]
    },
    {
      "cell_type": "code",
      "metadata": {
        "colab": {
          "base_uri": "https://localhost:8080/"
        },
        "id": "Td3B5NCpHCdf",
        "outputId": "a62e0c76-395a-4c63-cb66-2bc694a0e69e"
      },
      "source": [
        "!ls "
      ],
      "execution_count": 33,
      "outputs": [
        {
          "output_type": "stream",
          "text": [
            " apr_p106-03-2020_13-28-46-560.pdf\n",
            " apr_p206-03-2020_13-30-30-165.pdf\n",
            "'Ch 7 Normative Theories.gdoc'\n",
            "'Colab Notebooks'\n",
            " conclusion.csv\n",
            "'Copy of nSuns Linear Progression (LP) Complete Bundle (4 Day, 5 Day, 6 Day squat, 6 Day deadlift) | LiftVault.com.gsheet'\n",
            "'Cover Letter .gdoc'\n",
            "'Cover Letter_MarkenLLP.gdoc'\n",
            " covid19_stuff\n",
            " feb_p106-03-2020_13-22-24-512.pdf\n",
            " feb_p206-03-2020_13-24-21-962.pdf\n",
            "'Fuck Song Selection .gdoc'\n",
            " HFT_coverletter.gdoc\n",
            "'Last Soul_Jun13_2021.mp3'\n",
            " mar_p106-03-2020_13-25-51-715.pdf\n",
            " mar_p206-03-2020_13-27-21-284.pdf\n",
            " MSA_Personal_Statement.gdoc\n",
            " MSA_Personal_Statement_R1.gdoc\n",
            " Old_mixes\n",
            "'Questions to Ask MSA .gdoc'\n",
            " receipt06-03-2020_13-20-11-185.pdf\n",
            "'Resume (1).docx'\n",
            "'Resume (1).gdoc'\n",
            " Resume-.gdoc\n",
            " Resume.gdoc\n",
            "'Song Selection Spring 2020.gsheet'\n",
            "'Untitled document (1).gdoc'\n",
            "'Untitled document (2).gdoc'\n",
            "'Untitled document (3).gdoc'\n",
            "'Untitled document (4).gdoc'\n",
            "'Untitled document (5).gdoc'\n",
            "'Untitled document.gdoc'\n",
            "'Untitled spreadsheet (1).gsheet'\n",
            "'Untitled spreadsheet.gsheet'\n",
            " VinBigData_comp_gd_dir\n"
          ],
          "name": "stdout"
        }
      ]
    },
    {
      "cell_type": "code",
      "metadata": {
        "id": "tgnDC4Kau86i"
      },
      "source": [
        "file_list = os.listdir('./VinBigData_comp_gd_dir/data_dump/train/')"
      ],
      "execution_count": 37,
      "outputs": []
    },
    {
      "cell_type": "code",
      "metadata": {
        "colab": {
          "base_uri": "https://localhost:8080/"
        },
        "id": "GcJdQ9LPtdth",
        "outputId": "d335a3f7-3fd2-4d25-96e9-f4ee9c6ab76a"
      },
      "source": [
        "# Begin the check of each file for grayscale\n",
        "for filename in file_list[0:10]:\n",
        "  print(filename)"
      ],
      "execution_count": 38,
      "outputs": [
        {
          "output_type": "stream",
          "text": [
            "ee0038c59a1b52cd027e0108418e0500.png\n",
            "ee04fa64f7e9a47abee0be3cfc22f5e7.png\n",
            "ee0b9e8fd3ad717bfd391f0adc3f459e.png\n",
            "ee0d65c2402ce79f2d7a66502b3ca321.png\n",
            "ee1abdde3a0e65f9e0b832dfdbbea5de.png\n",
            "ee1ce355f6de728da4c7a40715b16826.png\n",
            "ee22245fccd39fca9be413a2b2bbe521.png\n",
            "ee253aab2bfa090c01a596a449159233.png\n",
            "ee25d885155b131723c1dba2921d7589.png\n",
            "ee28d5fe8bad0f0e57d563a244ecc2f9.png\n"
          ],
          "name": "stdout"
        }
      ]
    },
    {
      "cell_type": "code",
      "metadata": {
        "id": "WUSrqkqAzMe9"
      },
      "source": [
        ""
      ],
      "execution_count": null,
      "outputs": []
    }
  ]
}