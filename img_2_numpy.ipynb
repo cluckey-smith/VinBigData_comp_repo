{
  "nbformat": 4,
  "nbformat_minor": 0,
  "metadata": {
    "colab": {
      "name": "img_2_numpy.ipynb",
      "provenance": [],
      "mount_file_id": "1LeUR4Bnvs17JulGnkjrz_90l_xqQbAkr",
      "authorship_tag": "ABX9TyMFKBgbabt9i7engeHqmMP4",
      "include_colab_link": true
    },
    "kernelspec": {
      "name": "python3",
      "display_name": "Python 3"
    },
    "language_info": {
      "name": "python"
    }
  },
  "cells": [
    {
      "cell_type": "markdown",
      "metadata": {
        "id": "view-in-github",
        "colab_type": "text"
      },
      "source": [
        "<a href=\"https://colab.research.google.com/github/sameen73/VinBigData_comp_repo/blob/test_branch/img_2_numpy.ipynb\" target=\"_parent\"><img src=\"https://colab.research.google.com/assets/colab-badge.svg\" alt=\"Open In Colab\"/></a>"
      ]
    },
    {
      "cell_type": "markdown",
      "metadata": {
        "id": "e2l4T9JFp2vz"
      },
      "source": [
        "# Image to Numpy Conversion "
      ]
    },
    {
      "cell_type": "markdown",
      "metadata": {
        "id": "k39kSbCyrhFB"
      },
      "source": [
        "This code is meant to convert and store all images in the data_dump folder. The first step is to ensure that all images (if they haven't already) been converted into grayscale. Next, each image must be converted into a numpy array. Finally, each numpy array must be stored in a way such that the file identifier and the numpy array can be rejoined to the training dataset. "
      ]
    },
    {
      "cell_type": "code",
      "metadata": {
        "colab": {
          "base_uri": "https://localhost:8080/"
        },
        "id": "2a9noqpFoyt7",
        "outputId": "4c4d6866-cb66-4047-eb52-7093571261e8"
      },
      "source": [
        ""
      ],
      "execution_count": null,
      "outputs": [
        {
          "output_type": "stream",
          "text": [
            "[Errno 2] No such file or directory: './drive/MyDrive/VinBigData_comp_gd_dir/VinBigData_comp_repo/'\n",
            "/content/drive/MyDrive/VinBigData_comp_gd_dir/VinBigData_comp_repo\n"
          ],
          "name": "stdout"
        }
      ]
    },
    {
      "cell_type": "code",
      "metadata": {
        "colab": {
          "base_uri": "https://localhost:8080/"
        },
        "id": "tgnDC4Kau86i",
        "outputId": "485a4f00-0bfb-4193-afae-5e5b587ef265"
      },
      "source": [
        "!ls"
      ],
      "execution_count": null,
      "outputs": [
        {
          "output_type": "stream",
          "text": [
            "colab_git_setup_notebook.ipynb\tkaggledata_to_colab\n",
            "img_2_numpy.ipynb\t\tREADME.md\n"
          ],
          "name": "stdout"
        }
      ]
    },
    {
      "cell_type": "code",
      "metadata": {
        "colab": {
          "base_uri": "https://localhost:8080/"
        },
        "id": "GcJdQ9LPtdth",
        "outputId": "6be7bea5-2180-4aab-e4c1-b0184d0b521d"
      },
      "source": [
        ""
      ],
      "execution_count": null,
      "outputs": [
        {
          "output_type": "stream",
          "text": [
            "Switched to a new branch 'test_branch'\n"
          ],
          "name": "stdout"
        }
      ]
    },
    {
      "cell_type": "code",
      "metadata": {
        "colab": {
          "base_uri": "https://localhost:8080/"
        },
        "id": "RcwPoIfnyPO0",
        "outputId": "e289e0e2-7f68-4ab9-942f-bb777711289a"
      },
      "source": [
        ""
      ],
      "execution_count": null,
      "outputs": [
        {
          "output_type": "stream",
          "text": [
            "[test_branch da1851e] First iteration of img_2_numpy converter and testing the branches.\n",
            " 1 file changed, 1 insertion(+)\n",
            " create mode 100644 img_2_numpy.ipynb\n",
            "fatal: could not read Username for 'https://github.com': No such device or address\n"
          ],
          "name": "stdout"
        }
      ]
    },
    {
      "cell_type": "code",
      "metadata": {
        "id": "WUSrqkqAzMe9"
      },
      "source": [
        ""
      ],
      "execution_count": null,
      "outputs": []
    }
  ]
}