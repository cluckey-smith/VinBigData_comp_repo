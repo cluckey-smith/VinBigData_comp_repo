{
  "nbformat": 4,
  "nbformat_minor": 0,
  "metadata": {
    "colab": {
      "name": "Data_Preprocessing",
      "provenance": [],
      "authorship_tag": "ABX9TyPhtwSsqQKypQ6fHD+nsCbs",
      "include_colab_link": true
    },
    "kernelspec": {
      "name": "python3",
      "display_name": "Python 3"
    },
    "language_info": {
      "name": "python"
    }
  },
  "cells": [
    {
      "cell_type": "markdown",
      "metadata": {
        "id": "view-in-github",
        "colab_type": "text"
      },
      "source": [
        "<a href=\"https://colab.research.google.com/github/cluckey-smith/VinBigData_comp_repo/blob/main/Data_Preprocessing.ipynb\" target=\"_parent\"><img src=\"https://colab.research.google.com/assets/colab-badge.svg\" alt=\"Open In Colab\"/></a>"
      ]
    },
    {
      "cell_type": "code",
      "metadata": {
        "colab": {
          "base_uri": "https://localhost:8080/"
        },
        "id": "cbY7Hclb9ouc",
        "outputId": "d8b3e5ad-b567-45e1-b991-7e2ad3fdeea1"
      },
      "source": [
        "import pandas as pd\n",
        "import numpy as np\n",
        "import cv2\n",
        "from google.colab import drive\n",
        "drive.mount('/content/drive')\n",
        "import os\n",
        "from tensorflow.keras.preprocessing.image import img_to_array\n",
        "from tensorflow.keras.preprocessing.image import load_img\n",
        "from tensorflow.keras.utils import to_categorical\n",
        "from sklearn.preprocessing import LabelBinarizer"
      ],
      "execution_count": 61,
      "outputs": [
        {
          "output_type": "stream",
          "text": [
            "Drive already mounted at /content/drive; to attempt to forcibly remount, call drive.mount(\"/content/drive\", force_remount=True).\n"
          ],
          "name": "stdout"
        }
      ]
    },
    {
      "cell_type": "code",
      "metadata": {
        "id": "37WvDl3BHgy6"
      },
      "source": [
        "def rgb2gray(rgb):\n",
        "\n",
        "    r, g, b = rgb[:,:,0], rgb[:,:,1], rgb[:,:,2]\n",
        "    gray = 0.2989 * r + 0.5870 * g + 0.1140 * b\n",
        "\n",
        "    return gray"
      ],
      "execution_count": 32,
      "outputs": []
    },
    {
      "cell_type": "code",
      "metadata": {
        "id": "PXYQVADO96ea"
      },
      "source": [
        "df = pd.read_csv('./train.csv')"
      ],
      "execution_count": 2,
      "outputs": []
    },
    {
      "cell_type": "code",
      "metadata": {
        "id": "XrsPvoD_990F"
      },
      "source": [
        "train_files = os.listdir('/content/drive/MyDrive/Vin_big_data/train/')"
      ],
      "execution_count": 3,
      "outputs": []
    },
    {
      "cell_type": "code",
      "metadata": {
        "id": "bHH8aHju9-JL"
      },
      "source": [
        "labels = []\n",
        "x_min_list = []\n",
        "x_max_list = []\n",
        "y_min_list = []\n",
        "y_max_list = []\n",
        "img_name = []\n",
        "img = []\n",
        "bounding_boxes = []\n",
        "for i,r in df[:20].iterrows():\n",
        "  if (str(r['image_id']) + '.png') in train_files:\n",
        "    img_name.append(('/content/drive/MyDrive/Vin_big_data/train/') + r['image_id'] + '.png')\n",
        "    image = load_img(('/content/drive/MyDrive/Vin_big_data/train/') + r['image_id'] + '.png')\n",
        "    image = img_to_array(image)\n",
        "    if len(image.shape) > 2:\n",
        "      image = rgb2gray(image) # Not every image is in grayscale. This is converting them to it\n",
        "    h,w = image.shape[:2]\n",
        "    image = image / 255 # Converting our graycale image to values between 0 and 1\n",
        "    img.append(image)\n",
        "    labels.append(r['class_name'])\n",
        "    x_min = r['x_min'] / w\n",
        "    x_max = r['x_max'] / w\n",
        "    y_min = r['y_min'] / h\n",
        "    y_max = r['y_max'] / h\n",
        "    x_min_list.append(x_min)\n",
        "    x_max_list.append(x_max)\n",
        "    y_min_list.append(y_min)\n",
        "    y_max_list.append(y_max)\n",
        "    bounding_boxes.append((x_min, y_min, x_max, y_max))\n",
        "    "
      ],
      "execution_count": 59,
      "outputs": []
    },
    {
      "cell_type": "code",
      "metadata": {
        "id": "F4yN8kZFHWEm"
      },
      "source": [
        "labels = np.array(labels)\n",
        "bounding_boxes = np.array(bounding_boxes)\n",
        "\n",
        "lb = LabelBinarizer()\n",
        "labels = lb.fit_transform(labels)"
      ],
      "execution_count": 63,
      "outputs": []
    },
    {
      "cell_type": "code",
      "metadata": {
        "id": "QZiBnz4RFejB"
      },
      "source": [
        ""
      ],
      "execution_count": null,
      "outputs": []
    }
  ]
}