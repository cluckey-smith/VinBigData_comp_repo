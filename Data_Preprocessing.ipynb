{
  "nbformat": 4,
  "nbformat_minor": 0,
  "metadata": {
    "colab": {
      "name": "Data_Preprocessing",
      "provenance": [],
      "authorship_tag": "ABX9TyMpuEP7SuLykJxmfObXa00y",
      "include_colab_link": true
    },
    "kernelspec": {
      "name": "python3",
      "display_name": "Python 3"
    },
    "language_info": {
      "name": "python"
    }
  },
  "cells": [
    {
      "cell_type": "markdown",
      "metadata": {
        "id": "view-in-github",
        "colab_type": "text"
      },
      "source": [
        "<a href=\"https://colab.research.google.com/github/cluckey-smith/VinBigData_comp_repo/blob/main/Data_Preprocessing.ipynb\" target=\"_parent\"><img src=\"https://colab.research.google.com/assets/colab-badge.svg\" alt=\"Open In Colab\"/></a>"
      ]
    },
    {
      "cell_type": "code",
      "metadata": {
        "colab": {
          "base_uri": "https://localhost:8080/"
        },
        "id": "cbY7Hclb9ouc",
        "outputId": "237379fe-83b6-4f66-a0da-07ca838e03b1"
      },
      "source": [
        "import pandas as pd\n",
        "import numpy as np\n",
        "import cv2\n",
        "from google.colab import drive\n",
        "drive.mount('/content/drive')\n",
        "import os\n",
        "from tensorflow.keras.preprocessing.image import img_to_array\n",
        "from tensorflow.keras.preprocessing.image import load_img"
      ],
      "execution_count": 48,
      "outputs": [
        {
          "output_type": "stream",
          "text": [
            "Drive already mounted at /content/drive; to attempt to forcibly remount, call drive.mount(\"/content/drive\", force_remount=True).\n"
          ],
          "name": "stdout"
        }
      ]
    },
    {
      "cell_type": "code",
      "metadata": {
        "id": "37WvDl3BHgy6"
      },
      "source": [
        "def rgb2gray(rgb):\n",
        "\n",
        "    r, g, b = rgb[:,:,0], rgb[:,:,1], rgb[:,:,2]\n",
        "    gray = 0.2989 * r + 0.5870 * g + 0.1140 * b\n",
        "\n",
        "    return gray"
      ],
      "execution_count": 32,
      "outputs": []
    },
    {
      "cell_type": "code",
      "metadata": {
        "id": "PXYQVADO96ea"
      },
      "source": [
        "df = pd.read_csv('./train.csv')"
      ],
      "execution_count": 2,
      "outputs": []
    },
    {
      "cell_type": "code",
      "metadata": {
        "id": "XrsPvoD_990F"
      },
      "source": [
        "train_files = os.listdir('/content/drive/MyDrive/Vin_big_data/train/')"
      ],
      "execution_count": 3,
      "outputs": []
    },
    {
      "cell_type": "code",
      "metadata": {
        "id": "bHH8aHju9-JL"
      },
      "source": [
        "labels = []\n",
        "x_min_list = []\n",
        "x_max_list = []\n",
        "y_min_list = []\n",
        "y_max_list = []\n",
        "img_name = []\n",
        "img = []\n",
        "bounding_boxes = []\n",
        "for i,r in df[:20].iterrows():\n",
        "  if (str(r['image_id']) + '.png') in train_files:\n",
        "    img_name.append(('/content/drive/MyDrive/Vin_big_data/train/') + r['image_id'] + '.png')\n",
        "    image = load_img(('/content/drive/MyDrive/Vin_big_data/train/') + r['image_id'] + '.png')\n",
        "    image = img_to_array(image)\n",
        "    if len(image.shape) > 2:\n",
        "      image = rgb2gray(image) # Not every image is in grayscale. This is converting them to it\n",
        "    h,w = image.shape[:2]\n",
        "    image = image / 255 # Converting our graycale image to values between 0 and 1\n",
        "    img.append(image)\n",
        "    labels.append(r['class_name'])\n",
        "    x_min = r['x_min'] / w\n",
        "    x_max = r['x_max'] / w\n",
        "    y_min = r['y_min'] / h\n",
        "    y_max = r['y_max'] / h\n",
        "    x_min_list.append(x_min)\n",
        "    x_max_list.append(x_max)\n",
        "    y_min_list.append(y_min)\n",
        "    y_max_list.append(y_max)\n",
        "    bounding_boxes.append((x_min, y_min, x_max, y_max))\n",
        "    "
      ],
      "execution_count": 59,
      "outputs": []
    },
    {
      "cell_type": "code",
      "metadata": {
        "colab": {
          "base_uri": "https://localhost:8080/"
        },
        "id": "F4yN8kZFHWEm",
        "outputId": "3fb91684-2c90-4813-c144-550c3356d3b8"
      },
      "source": [
        "bounding_boxes"
      ],
      "execution_count": 60,
      "outputs": [
        {
          "output_type": "execute_result",
          "data": {
            "text/plain": [
              "[(nan, nan, nan, nan),\n",
              " (nan, nan, nan, nan),\n",
              " (1.349609375, 2.685546875, 3.228515625, 3.576171875),\n",
              " (2.46875, 1.451171875, 3.146484375, 1.990234375),\n",
              " (nan, nan, nan, nan),\n",
              " (1.224609375, 0.697265625, 1.849609375, 0.845703125),\n",
              " (2.630859375, 0.478515625, 4.2734375, 4.236328125),\n",
              " (1.087890625, 4.59375, 1.318359375, 4.8515625),\n",
              " (2.595703125, 1.451171875, 2.970703125, 1.87109375),\n",
              " (3.626953125, 3.138671875, 4.15234375, 3.9765625),\n",
              " (1.171875, 2.6015625, 1.763671875, 2.974609375),\n",
              " (0.767578125, 0.552734375, 1.60546875, 1.255859375),\n",
              " (nan, nan, nan, nan),\n",
              " (nan, nan, nan, nan),\n",
              " (2.5234375, 1.08203125, 2.884765625, 1.572265625),\n",
              " (nan, nan, nan, nan),\n",
              " (nan, nan, nan, nan),\n",
              " (0.646484375, 0.90234375, 2.703125, 4.619140625),\n",
              " (3.193359375, 1.314453125, 3.86328125, 2.248046875),\n",
              " (2.71484375, 1.71484375, 3.15625, 2.271484375)]"
            ]
          },
          "metadata": {
            "tags": []
          },
          "execution_count": 60
        }
      ]
    },
    {
      "cell_type": "code",
      "metadata": {
        "colab": {
          "base_uri": "https://localhost:8080/",
          "height": 467
        },
        "id": "GjFy-JPg_4jI",
        "outputId": "2f76324b-896f-41eb-8b7d-9f5225ab150e"
      },
      "source": [
        "df.groupby(['image_id', 'class_name']).count()"
      ],
      "execution_count": 25,
      "outputs": [
        {
          "output_type": "execute_result",
          "data": {
            "text/html": [
              "<div>\n",
              "<style scoped>\n",
              "    .dataframe tbody tr th:only-of-type {\n",
              "        vertical-align: middle;\n",
              "    }\n",
              "\n",
              "    .dataframe tbody tr th {\n",
              "        vertical-align: top;\n",
              "    }\n",
              "\n",
              "    .dataframe thead th {\n",
              "        text-align: right;\n",
              "    }\n",
              "</style>\n",
              "<table border=\"1\" class=\"dataframe\">\n",
              "  <thead>\n",
              "    <tr style=\"text-align: right;\">\n",
              "      <th></th>\n",
              "      <th></th>\n",
              "      <th>class_id</th>\n",
              "      <th>rad_id</th>\n",
              "      <th>x_min</th>\n",
              "      <th>y_min</th>\n",
              "      <th>x_max</th>\n",
              "      <th>y_max</th>\n",
              "      <th>img_name</th>\n",
              "    </tr>\n",
              "    <tr>\n",
              "      <th>image_id</th>\n",
              "      <th>class_name</th>\n",
              "      <th></th>\n",
              "      <th></th>\n",
              "      <th></th>\n",
              "      <th></th>\n",
              "      <th></th>\n",
              "      <th></th>\n",
              "      <th></th>\n",
              "    </tr>\n",
              "  </thead>\n",
              "  <tbody>\n",
              "    <tr>\n",
              "      <th>000434271f63a053c4128a0ba6352c7f</th>\n",
              "      <th>No finding</th>\n",
              "      <td>3</td>\n",
              "      <td>3</td>\n",
              "      <td>0</td>\n",
              "      <td>0</td>\n",
              "      <td>0</td>\n",
              "      <td>0</td>\n",
              "      <td>3</td>\n",
              "    </tr>\n",
              "    <tr>\n",
              "      <th>00053190460d56c53cc3e57321387478</th>\n",
              "      <th>No finding</th>\n",
              "      <td>3</td>\n",
              "      <td>3</td>\n",
              "      <td>0</td>\n",
              "      <td>0</td>\n",
              "      <td>0</td>\n",
              "      <td>0</td>\n",
              "      <td>3</td>\n",
              "    </tr>\n",
              "    <tr>\n",
              "      <th rowspan=\"3\" valign=\"top\">0005e8e3701dfb1dd93d53e2ff537b6e</th>\n",
              "      <th>Consolidation</th>\n",
              "      <td>1</td>\n",
              "      <td>1</td>\n",
              "      <td>1</td>\n",
              "      <td>1</td>\n",
              "      <td>1</td>\n",
              "      <td>1</td>\n",
              "      <td>1</td>\n",
              "    </tr>\n",
              "    <tr>\n",
              "      <th>Infiltration</th>\n",
              "      <td>1</td>\n",
              "      <td>1</td>\n",
              "      <td>1</td>\n",
              "      <td>1</td>\n",
              "      <td>1</td>\n",
              "      <td>1</td>\n",
              "      <td>1</td>\n",
              "    </tr>\n",
              "    <tr>\n",
              "      <th>Lung Opacity</th>\n",
              "      <td>2</td>\n",
              "      <td>2</td>\n",
              "      <td>2</td>\n",
              "      <td>2</td>\n",
              "      <td>2</td>\n",
              "      <td>2</td>\n",
              "      <td>2</td>\n",
              "    </tr>\n",
              "    <tr>\n",
              "      <th>...</th>\n",
              "      <th>...</th>\n",
              "      <td>...</td>\n",
              "      <td>...</td>\n",
              "      <td>...</td>\n",
              "      <td>...</td>\n",
              "      <td>...</td>\n",
              "      <td>...</td>\n",
              "      <td>...</td>\n",
              "    </tr>\n",
              "    <tr>\n",
              "      <th>ffe6f9fe648a7ec29a50feb92d6c15a4</th>\n",
              "      <th>Other lesion</th>\n",
              "      <td>1</td>\n",
              "      <td>1</td>\n",
              "      <td>1</td>\n",
              "      <td>1</td>\n",
              "      <td>1</td>\n",
              "      <td>1</td>\n",
              "      <td>1</td>\n",
              "    </tr>\n",
              "    <tr>\n",
              "      <th>ffea246f04196af602c7dc123e5e48fc</th>\n",
              "      <th>No finding</th>\n",
              "      <td>3</td>\n",
              "      <td>3</td>\n",
              "      <td>0</td>\n",
              "      <td>0</td>\n",
              "      <td>0</td>\n",
              "      <td>0</td>\n",
              "      <td>3</td>\n",
              "    </tr>\n",
              "    <tr>\n",
              "      <th>ffeffc54594debf3716d6fcd2402a99f</th>\n",
              "      <th>Aortic enlargement</th>\n",
              "      <td>3</td>\n",
              "      <td>3</td>\n",
              "      <td>3</td>\n",
              "      <td>3</td>\n",
              "      <td>3</td>\n",
              "      <td>3</td>\n",
              "      <td>3</td>\n",
              "    </tr>\n",
              "    <tr>\n",
              "      <th>fff0f82159f9083f3dd1f8967fc54f6a</th>\n",
              "      <th>No finding</th>\n",
              "      <td>3</td>\n",
              "      <td>3</td>\n",
              "      <td>0</td>\n",
              "      <td>0</td>\n",
              "      <td>0</td>\n",
              "      <td>0</td>\n",
              "      <td>3</td>\n",
              "    </tr>\n",
              "    <tr>\n",
              "      <th>fff2025e3c1d6970a8a6ee0404ac6940</th>\n",
              "      <th>No finding</th>\n",
              "      <td>3</td>\n",
              "      <td>3</td>\n",
              "      <td>0</td>\n",
              "      <td>0</td>\n",
              "      <td>0</td>\n",
              "      <td>0</td>\n",
              "      <td>3</td>\n",
              "    </tr>\n",
              "  </tbody>\n",
              "</table>\n",
              "<p>25971 rows × 7 columns</p>\n",
              "</div>"
            ],
            "text/plain": [
              "                                                     class_id  ...  img_name\n",
              "image_id                         class_name                    ...          \n",
              "000434271f63a053c4128a0ba6352c7f No finding                 3  ...         3\n",
              "00053190460d56c53cc3e57321387478 No finding                 3  ...         3\n",
              "0005e8e3701dfb1dd93d53e2ff537b6e Consolidation              1  ...         1\n",
              "                                 Infiltration               1  ...         1\n",
              "                                 Lung Opacity               2  ...         2\n",
              "...                                                       ...  ...       ...\n",
              "ffe6f9fe648a7ec29a50feb92d6c15a4 Other lesion               1  ...         1\n",
              "ffea246f04196af602c7dc123e5e48fc No finding                 3  ...         3\n",
              "ffeffc54594debf3716d6fcd2402a99f Aortic enlargement         3  ...         3\n",
              "fff0f82159f9083f3dd1f8967fc54f6a No finding                 3  ...         3\n",
              "fff2025e3c1d6970a8a6ee0404ac6940 No finding                 3  ...         3\n",
              "\n",
              "[25971 rows x 7 columns]"
            ]
          },
          "metadata": {
            "tags": []
          },
          "execution_count": 25
        }
      ]
    },
    {
      "cell_type": "code",
      "metadata": {
        "colab": {
          "base_uri": "https://localhost:8080/",
          "height": 224
        },
        "id": "xvedcPziDd5e",
        "outputId": "7c4e9813-550f-4729-89f6-609085cc9db7"
      },
      "source": [
        "df[df['image_id'] == '0005e8e3701dfb1dd93d53e2ff537b6e']"
      ],
      "execution_count": 27,
      "outputs": [
        {
          "output_type": "execute_result",
          "data": {
            "text/html": [
              "<div>\n",
              "<style scoped>\n",
              "    .dataframe tbody tr th:only-of-type {\n",
              "        vertical-align: middle;\n",
              "    }\n",
              "\n",
              "    .dataframe tbody tr th {\n",
              "        vertical-align: top;\n",
              "    }\n",
              "\n",
              "    .dataframe thead th {\n",
              "        text-align: right;\n",
              "    }\n",
              "</style>\n",
              "<table border=\"1\" class=\"dataframe\">\n",
              "  <thead>\n",
              "    <tr style=\"text-align: right;\">\n",
              "      <th></th>\n",
              "      <th>image_id</th>\n",
              "      <th>class_name</th>\n",
              "      <th>class_id</th>\n",
              "      <th>rad_id</th>\n",
              "      <th>x_min</th>\n",
              "      <th>y_min</th>\n",
              "      <th>x_max</th>\n",
              "      <th>y_max</th>\n",
              "      <th>img_name</th>\n",
              "    </tr>\n",
              "  </thead>\n",
              "  <tbody>\n",
              "    <tr>\n",
              "      <th>664</th>\n",
              "      <td>0005e8e3701dfb1dd93d53e2ff537b6e</td>\n",
              "      <td>Lung Opacity</td>\n",
              "      <td>7</td>\n",
              "      <td>R10</td>\n",
              "      <td>900.0</td>\n",
              "      <td>587.0</td>\n",
              "      <td>1205.0</td>\n",
              "      <td>888.0</td>\n",
              "      <td></td>\n",
              "    </tr>\n",
              "    <tr>\n",
              "      <th>13648</th>\n",
              "      <td>0005e8e3701dfb1dd93d53e2ff537b6e</td>\n",
              "      <td>Nodule/Mass</td>\n",
              "      <td>8</td>\n",
              "      <td>R8</td>\n",
              "      <td>932.0</td>\n",
              "      <td>567.0</td>\n",
              "      <td>1197.0</td>\n",
              "      <td>896.0</td>\n",
              "      <td></td>\n",
              "    </tr>\n",
              "    <tr>\n",
              "      <th>15180</th>\n",
              "      <td>0005e8e3701dfb1dd93d53e2ff537b6e</td>\n",
              "      <td>Infiltration</td>\n",
              "      <td>6</td>\n",
              "      <td>R10</td>\n",
              "      <td>900.0</td>\n",
              "      <td>587.0</td>\n",
              "      <td>1205.0</td>\n",
              "      <td>888.0</td>\n",
              "      <td></td>\n",
              "    </tr>\n",
              "    <tr>\n",
              "      <th>16938</th>\n",
              "      <td>0005e8e3701dfb1dd93d53e2ff537b6e</td>\n",
              "      <td>Lung Opacity</td>\n",
              "      <td>7</td>\n",
              "      <td>R9</td>\n",
              "      <td>905.0</td>\n",
              "      <td>583.0</td>\n",
              "      <td>1203.0</td>\n",
              "      <td>890.0</td>\n",
              "      <td></td>\n",
              "    </tr>\n",
              "    <tr>\n",
              "      <th>48751</th>\n",
              "      <td>0005e8e3701dfb1dd93d53e2ff537b6e</td>\n",
              "      <td>Consolidation</td>\n",
              "      <td>4</td>\n",
              "      <td>R8</td>\n",
              "      <td>932.0</td>\n",
              "      <td>567.0</td>\n",
              "      <td>1197.0</td>\n",
              "      <td>896.0</td>\n",
              "      <td></td>\n",
              "    </tr>\n",
              "  </tbody>\n",
              "</table>\n",
              "</div>"
            ],
            "text/plain": [
              "                               image_id     class_name  ...  y_max img_name\n",
              "664    0005e8e3701dfb1dd93d53e2ff537b6e   Lung Opacity  ...  888.0         \n",
              "13648  0005e8e3701dfb1dd93d53e2ff537b6e    Nodule/Mass  ...  896.0         \n",
              "15180  0005e8e3701dfb1dd93d53e2ff537b6e   Infiltration  ...  888.0         \n",
              "16938  0005e8e3701dfb1dd93d53e2ff537b6e   Lung Opacity  ...  890.0         \n",
              "48751  0005e8e3701dfb1dd93d53e2ff537b6e  Consolidation  ...  896.0         \n",
              "\n",
              "[5 rows x 9 columns]"
            ]
          },
          "metadata": {
            "tags": []
          },
          "execution_count": 27
        }
      ]
    },
    {
      "cell_type": "code",
      "metadata": {
        "id": "QZiBnz4RFejB"
      },
      "source": [
        ""
      ],
      "execution_count": null,
      "outputs": []
    }
  ]
}