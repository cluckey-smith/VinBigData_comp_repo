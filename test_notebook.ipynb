{
  "nbformat": 4,
  "nbformat_minor": 0,
  "metadata": {
    "colab": {
      "name": "test_notebook",
      "provenance": [],
      "authorship_tag": "ABX9TyM7qfDCOCJj4RcrMPOXJiLc",
      "include_colab_link": true
    },
    "kernelspec": {
      "name": "python3",
      "display_name": "Python 3"
    }
  },
  "cells": [
    {
      "cell_type": "markdown",
      "metadata": {
        "id": "view-in-github",
        "colab_type": "text"
      },
      "source": [
        "<a href=\"https://colab.research.google.com/github/sameen73/VinBigData_comp_repo/blob/main/test_notebook.ipynb\" target=\"_parent\"><img src=\"https://colab.research.google.com/assets/colab-badge.svg\" alt=\"Open In Colab\"/></a>"
      ]
    },
    {
      "cell_type": "markdown",
      "metadata": {
        "id": "i2Br_UNnIlTg"
      },
      "source": [
        "# Test Notebook\r\n",
        "\r\n",
        "This notebook is a test. Checking for Github compatibility and sharing."
      ]
    },
    {
      "cell_type": "code",
      "metadata": {
        "colab": {
          "base_uri": "https://localhost:8080/"
        },
        "id": "tQJuMrxTJsM5",
        "outputId": "c67fc19c-cdd4-4c72-a5cd-b988bdb875a5"
      },
      "source": [
        "word = 'hello world!'\r\n",
        "\r\n",
        "print(word)"
      ],
      "execution_count": 2,
      "outputs": [
        {
          "output_type": "stream",
          "text": [
            "hello world!\n"
          ],
          "name": "stdout"
        }
      ]
    }
  ]
}