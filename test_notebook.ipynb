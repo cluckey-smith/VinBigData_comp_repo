{
  "nbformat": 4,
  "nbformat_minor": 0,
  "metadata": {
    "colab": {
      "name": "test_notebook",
      "provenance": [],
      "authorship_tag": "ABX9TyODRNEILgTVcagj+VJFACph",
      "include_colab_link": true
    },
    "kernelspec": {
      "name": "python3",
      "display_name": "Python 3"
    }
  },
  "cells": [
    {
      "cell_type": "markdown",
      "metadata": {
        "id": "view-in-github",
        "colab_type": "text"
      },
      "source": [
        "<a href=\"https://colab.research.google.com/github/sameen73/VinBigData_comp_repo/blob/main/test_notebook.ipynb\" target=\"_parent\"><img src=\"https://colab.research.google.com/assets/colab-badge.svg\" alt=\"Open In Colab\"/></a>"
      ]
    },
    {
      "cell_type": "markdown",
      "metadata": {
        "id": "i2Br_UNnIlTg"
      },
      "source": [
        "# Setup Notebook\r\n",
        "\r\n",
        "This notebook walks through the basic setup process you need to do for collaboration. The steps outlined are:  \r\n",
        "1. Mount Google Drive onto Google Colab to effectively render Google Drive as your \"local\" file system.  \r\n",
        "2. Create a new Google Drive folder.\r\n",
        "3. After accepting the Github access invite for the repo (sameen73/VinBigData_comp_repo), then clone the contents of the repository into that Google Drive folder.  \r\n",
        "\r\n",
        "After completing these steps, you should be able to access and edit this notebook. Confirm your accesses to the repo by adding a code cell to the bottom of this notebook in the Colab environment that prints \"I am the collaborator\". Once you have added the code, click on \"File\" and hit Save a copy to Github. Check that the repository field says \"sameen73/VinBigData_comp_repo\" and that the branch is \"main\". Write a commit message saying \"Added collab confirmation.\" and ensure that the \"include link to Colab\" field is checked."
      ]
    },
    {
      "cell_type": "code",
      "metadata": {
        "id": "llsojzKSWikU"
      },
      "source": [
        "# Use this to connect to your Google Drive for the gmail account you used to set up your Kaggle account. This basically gives you access to your entire Google Drive \r\n",
        "# file system to act as your 'local' system. The positive to linking Google Drive is that the objects and files stored there are stored permanently, whereas the diskspace \r\n",
        "# that automatically gets spun up for Google Colab is temporary (lasting about 8hrs or so). This would be useful in storing a trained neural network model after training so\r\n",
        "# that you don't have to retrain the model\r\n",
        "\r\n",
        "from google.colab import drive\r\n",
        "drive.mount('/content/drive')"
      ],
      "execution_count": null,
      "outputs": []
    },
    {
      "cell_type": "code",
      "metadata": {
        "id": "-BpX74_zXaSG"
      },
      "source": [
        "# Change directory to a Google Drive folder that you want to clone the Github repository into. I personally created a new empty folder within my Google Drive that lets me know \r\n",
        "# that my repository would be living in there. Google Colab defaults to it's own file system, but once again, it's temporary. If you download the Github repo to there by\r\n",
        "# accident, it'll disappear the next time you spin up a Google Colab session. \r\n",
        "import os\r\n",
        "os.chdir('/content/drive/MyDrive/path/to/your/desired/folder')"
      ],
      "execution_count": null,
      "outputs": []
    },
    {
      "cell_type": "code",
      "metadata": {
        "id": "JfsZcAPsVldT"
      },
      "source": [
        "# Clone the repo into the aforementioned Google Drive directory you created. Cloning the repo gives you the git-tracked version of the files sourced from the remote repo on\r\n",
        "# Github. I'll create some branches and take you through the process of using git for this next meeting. \r\n",
        "\r\n",
        "!git clone https://github.com/sameen73/VinBigData_comp_repo.git"
      ],
      "execution_count": null,
      "outputs": []
    },
    {
      "cell_type": "code",
      "metadata": {
        "colab": {
          "base_uri": "https://localhost:8080/"
        },
        "id": "tQJuMrxTJsM5",
        "outputId": "c67fc19c-cdd4-4c72-a5cd-b988bdb875a5"
      },
      "source": [
        "word = 'hello world!'\r\n",
        "\r\n",
        "print(word)"
      ],
      "execution_count": null,
      "outputs": [
        {
          "output_type": "stream",
          "text": [
            "hello world!\n"
          ],
          "name": "stdout"
        }
      ]
    }
  ]
}